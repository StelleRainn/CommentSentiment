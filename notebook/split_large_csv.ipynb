{
 "cells": [
  {
   "cell_type": "code",
   "execution_count": 1,
   "metadata": {
    "execution": {
     "iopub.execute_input": "2025-06-15T08:28:48.781097Z",
     "iopub.status.busy": "2025-06-15T08:28:48.780094Z",
     "iopub.status.idle": "2025-06-15T08:28:55.288672Z",
     "shell.execute_reply": "2025-06-15T08:28:55.288166Z"
    }
   },
   "outputs": [],
   "source": [
    "import pandas as pd\n",
    "import os\n",
    "import csv\n"
   ]
  },
  {
   "cell_type": "code",
   "execution_count": null,
   "metadata": {},
   "outputs": [],
   "source": [
    "# 处理原始youtube数据\n",
    "df = pd.read_csv('../data/youtube-comments-sentiment.csv')\n",
    "df.head(900).to_csv('../data/youtube-comments-sentiment-1.csv', index=False)\n"
   ]
  },
  {
   "cell_type": "code",
   "execution_count": 8,
   "metadata": {},
   "outputs": [],
   "source": [
    "# 处理val_df.csv数据，添加正确的列名映射\n",
    "val_df = pd.read_csv('../data/val_df.csv')\n",
    "val_df['CommentText'] = val_df['text']\n",
    "val_df['Sentiment'] = val_df['sentiment']\n",
    "val_df.head(900).to_csv('../data/val_df_processed.csv', index=False)"
   ]
  },
  {
   "cell_type": "code",
   "execution_count": null,
   "metadata": {},
   "outputs": [],
   "source": [
    "imdb = pd.read_csv('../data/IMDB-Dataset.csv')\n",
    "imdb['CommentText'] = imdb['review']\n",
    "imdb['Sentiment'] = imdb['sentiment']\n",
    "imdb.head(900).to_csv('../data/IDMB-Dataset-processed.csv', index=False)\n"
   ]
  },
  {
   "cell_type": "code",
   "execution_count": null,
   "metadata": {},
   "outputs": [],
   "source": [
    "integrated_train = pd.read_csv(\"../data/integrated_train.csv\").head(100000)\n",
    "integrated_val = pd.read_csv(\"../data/integrated_val.csv\").head(20000)\n"
   ]
  },
  {
   "cell_type": "code",
   "execution_count": null,
   "metadata": {},
   "outputs": [],
   "source": [
    "integrated_train.to_csv('../data/integrated_train_s.csv')\n",
    "integrated_val.to_csv('../data/integrated_val_s.csv')\n"
   ]
  }
 ],
 "metadata": {
  "kernelspec": {
   "display_name": "TextProcessing",
   "language": "python",
   "name": "python3"
  },
  "language_info": {
   "codemirror_mode": {
    "name": "ipython",
    "version": 3
   },
   "file_extension": ".py",
   "mimetype": "text/x-python",
   "name": "python",
   "nbconvert_exporter": "python",
   "pygments_lexer": "ipython3",
   "version": "3.12.11"
  }
 },
 "nbformat": 4,
 "nbformat_minor": 2
}
